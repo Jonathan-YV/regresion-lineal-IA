{
 "cells": [
  {
   "cell_type": "markdown",
   "metadata": {
    "id": "eCGIXowjfPfu"
   },
   "source": [
    "#Regresion Lineal\n",
    "\n"
   ]
  },
  {
   "cell_type": "markdown",
   "metadata": {
    "id": "zVE1y6nYefPZ"
   },
   "source": [
    "Regresión Lineal Convencional\n",
    "\n",
    "$$y = mx + b$$\n",
    "\n",
    "Regresión Lineal Machine Learning\n",
    "\n",
    "$$h_{\\theta}(x) = {\\theta_1} * x + {\\theta_0}$$"
   ]
  },
  {
   "cell_type": "code",
   "execution_count": null,
   "metadata": {
    "id": "jEZKzyNVocNs"
   },
   "outputs": [],
   "source": [
    "import matplotlib.pyplot as plt #Gráficas\n",
    "import numpy as np #Matrices\n",
    "import time "
   ]
  },
  {
   "cell_type": "code",
   "execution_count": null,
   "metadata": {
    "colab": {
     "base_uri": "https://localhost:8080/"
    },
    "id": "liGV2zYvoi9p",
    "outputId": "568008ae-9fc0-4017-8e65-c877b9bee896"
   },
   "outputs": [
    {
     "name": "stdout",
     "output_type": "stream",
     "text": [
      "[1.   1.1  1.5  2.   2.3  2.8  2.9  3.   3.1  3.2  3.5  4.   4.8  5.\n",
      " 5.32 5.4  6.  ]\n"
     ]
    }
   ],
   "source": [
    "X = np.array([1,1.1,1.5,2,2.3,2.8,2.9,3,3.1,3.2,3.5,4,4.8,5,5.32,5.4,6])\n",
    "\n",
    "print(X)"
   ]
  },
  {
   "cell_type": "code",
   "execution_count": null,
   "metadata": {
    "colab": {
     "base_uri": "https://localhost:8080/"
    },
    "id": "HYifX7Ebomem",
    "outputId": "267a48e3-123b-4286-ed4a-bebe34108346"
   },
   "outputs": [
    {
     "name": "stdout",
     "output_type": "stream",
     "text": [
      "[10.   15.1  18.5  21.   22.3  23.8  24.9  35.   36.1  37.2  38.5  42.\n",
      " 42.8  51.   55.32 54.4  56.  ]\n"
     ]
    }
   ],
   "source": [
    "Y = np.array([10,15.1,18.5,21,22.3,23.8,24.9,35,36.1,37.2,38.5,42,42.8,51,55.32,54.4,56])\n",
    "\n",
    "print(Y)"
   ]
  },
  {
   "cell_type": "code",
   "execution_count": null,
   "metadata": {
    "colab": {
     "base_uri": "https://localhost:8080/",
     "height": 296
    },
    "id": "yqV80gIFoy0H",
    "outputId": "7a9da45f-4023-4dc9-84a5-edaaf47e8e1a"
   },
   "outputs": [
    {
     "data": {
      "text/plain": [
       "Text(0, 0.5, 'Y')"
      ]
     },
     "execution_count": 4,
     "metadata": {
      "tags": []
     },
     "output_type": "execute_result"
    },
    {
     "data": {
      "image/png": "[encoded data removed]",
      "text/plain": [
       "<Figure size 432x288 with 1 Axes>"
      ]
     },
     "metadata": {
      "needs_background": "light",
      "tags": []
     },
     "output_type": "display_data"
    }
   ],
   "source": [
    "plt.scatter(X,Y)\n",
    "plt.xlabel(\"X\")\n",
    "plt.ylabel(\"Y\")"
   ]
  },
  {
   "cell_type": "code",
   "execution_count": null,
   "metadata": {
    "id": "L0ef9prJpdTb"
   },
   "outputs": [],
   "source": [
    "theta0 = 0 # M = pendiente\n",
    "theta1 = 0 # B = Ordenada al origen\n",
    "m = X.shape[0] # Número de datos"
   ]
  },
  {
   "cell_type": "code",
   "execution_count": null,
   "metadata": {
    "colab": {
     "base_uri": "https://localhost:8080/"
    },
    "id": "RdXLRYSyfkQk",
    "outputId": "370241fa-4800-45fb-f4fb-609e8717dcfa"
   },
   "outputs": [
    {
     "data": {
      "text/plain": [
       "(17,)"
      ]
     },
     "execution_count": 6,
     "metadata": {
      "tags": []
     },
     "output_type": "execute_result"
    }
   ],
   "source": [
    "X.shape"
   ]
  },
  {
   "cell_type": "markdown",
   "metadata": {
    "id": "lWiL4_ANfs-w"
   },
   "source": [
    "Empecemos con los valores de $\\theta_0$ y $\\theta_1$ iguales a 0 \n",
    "\n",
    "**Nota: Se pueden colocar valores aleatorios"
   ]
  },
  {
   "cell_type": "code",
   "execution_count": null,
   "metadata": {
    "colab": {
     "base_uri": "https://localhost:8080/"
    },
    "id": "EIP4rl48LwKW",
    "outputId": "91f525fc-ff03-4980-f946-2faa3b8dd669"
   },
   "outputs": [
    {
     "name": "stdout",
     "output_type": "stream",
     "text": [
      "Theta0 =  0\n",
      "Theta1 =  0\n",
      "Número de datos =  17\n"
     ]
    }
   ],
   "source": [
    "print(\"Theta0 = \",theta0)\n",
    "print(\"Theta1 = \",theta1)\n",
    "print(\"Número de datos = \", m)"
   ]
  },
  {
   "cell_type": "code",
   "execution_count": null,
   "metadata": {
    "id": "0zSmJsHUppJf"
   },
   "outputs": [],
   "source": [
    "def Regresion(X):\n",
    "  reg = theta1*X+theta0\n",
    "  return reg"
   ]
  },
  {
   "cell_type": "code",
   "execution_count": null,
   "metadata": {
    "colab": {
     "base_uri": "https://localhost:8080/",
     "height": 296
    },
    "id": "ChIPfqJGrYxn",
    "outputId": "0c1001f7-4569-4629-c61a-5971e97c9dae"
   },
   "outputs": [
    {
     "data": {
      "text/plain": [
       "Text(0, 0.5, 'Y')"
      ]
     },
     "execution_count": 9,
     "metadata": {
      "tags": []
     },
     "output_type": "execute_result"
    },
    {
     "data": {
      "image/png": "[encoded data removed]",
      "text/plain": [
       "<Figure size 432x288 with 1 Axes>"
      ]
     },
     "metadata": {
      "needs_background": "light",
      "tags": []
     },
     "output_type": "display_data"
    }
   ],
   "source": [
    "plt.plot(X,Regresion(X),c='r')\n",
    "plt.scatter(X,Y)\n",
    "plt.xlabel(\"X\")\n",
    "plt.ylabel(\"Y\")"
   ]
  },
  {
   "cell_type": "markdown",
   "metadata": {
    "id": "QI6LDDxy19CE"
   },
   "source": [
    "#Función Costo"
   ]
  },
  {
   "cell_type": "markdown",
   "metadata": {
    "id": "EOTu494IMulg"
   },
   "source": [
    "Función Costo (Error Cuadrático Medio)\n",
    "\n",
    "\n",
    "$$J(\\theta_0,\\theta_1) = \\frac{1}{2m} \\sum_{i = 1}^{m} (h_{\\theta}(x^{(i)})-y^{(i)})^{2}$$\n",
    "\n",
    "$$h_{\\theta}(x^{(i)}) = \\theta_1*x^{(i)} + \\theta_0$$\n",
    "\n",
    "$$J(\\theta_0,\\theta_1) = \\frac{1}{2m} \\sum_{i = 1}^{m} ((\\theta_1*x^{(i)} + \\theta_0)-y^{(i)})^{2}$$\n"
   ]
  },
  {
   "cell_type": "markdown",
   "metadata": {
    "id": "KBaqpBkoi7pc"
   },
   "source": [
    "Distancia de Costo\n",
    "\n",
    "\n",
    "![Costo.png](data:image/png;base64,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)"
   ]
  },
  {
   "cell_type": "markdown",
   "metadata": {
    "id": "BK3Nn6cIo_6W"
   },
   "source": [
    "$\\theta_1$"
   ]
  },
  {
   "cell_type": "code",
   "execution_count": null,
   "metadata": {
    "id": "mdTMGZAHzS6b"
   },
   "outputs": [],
   "source": [
    "def FuncionCosto(X,Y):\n",
    "  suma = 0\n",
    "  for i in range(0,m):\n",
    "    suma = suma + (Regresion(X[i])-Y[i])**2\n",
    "  total = suma/(2*m)\n",
    "  return total"
   ]
  },
  {
   "cell_type": "code",
   "execution_count": null,
   "metadata": {
    "colab": {
     "base_uri": "https://localhost:8080/"
    },
    "id": "SLUG5tUgZJV7",
    "outputId": "71244209-312c-4a35-c2d3-f3fe525a43ac"
   },
   "outputs": [
    {
     "data": {
      "text/plain": [
       "692.4059529411765"
      ]
     },
     "execution_count": 11,
     "metadata": {
      "tags": []
     },
     "output_type": "execute_result"
    }
   ],
   "source": [
    "FuncionCosto(X,Y)"
   ]
  },
  {
   "cell_type": "markdown",
   "metadata": {
    "id": "aBvEDs4dxHMq"
   },
   "source": [
    "Derivada de la función Costo\n",
    "\n",
    "\n",
    "$$J(\\theta_0,\\theta_1) = \\frac{1}{2m} \\sum_{i = 1}^{m} ((\\theta_1*x^{(i)} + \\theta_0)-y^{(i)})^{2}$$\n",
    "\n",
    "Derivada con respecto a $\\theta_0$\n",
    "\n",
    "$$\\frac{\\partial J(\\theta_0,\\theta_1)}{\\partial \\theta_0} = \\frac{1}{2m} \\sum_{i = 1}^{m} ((\\theta_1*x^{(i)} + \\theta_0)-y^{(i)})^{2}$$\n",
    "\n",
    "$$\\frac{\\partial J(\\theta_0,\\theta_1)}{\\partial \\theta_0} = \\frac{2*1}{2m} \\sum_{i = 1}^{m} ((\\theta_1*x^{(i)} + \\theta_0)-y^{(i)})^{2-1} * \\frac{\\partial}{\\partial \\theta_0} ((\\theta_1*x^{(i)} + \\theta_0)-y^{(i)})$$\n",
    "\n",
    "$$\\frac{\\partial J(\\theta_0,\\theta_1)}{\\partial \\theta_0} = \\frac{2}{2m} \\sum_{i = 1}^{m} ((\\theta_1*x^{(i)} + \\theta_0)-y^{(i)}) * 1$$\n",
    "\n",
    "$$\\frac{\\partial J(\\theta_0,\\theta_1)}{\\partial \\theta_0} = \\frac{1}{m} \\sum_{i = 1}^{m} ((\\theta_1*x^{(i)} + \\theta_0)-y^{(i)})$$\n",
    "\n",
    "\n",
    "Derivada con respecto a $\\theta_1$\n",
    "\n",
    "$$\\frac{\\partial J(\\theta_0,\\theta_1)}{\\partial \\theta_1} = \\frac{1}{2m} \\sum_{i = 1}^{m} ((\\theta_1*x^{(i)} + \\theta_0)-y^{(i)})^{2}$$\n",
    "\n",
    "$$\\frac{\\partial J(\\theta_0,\\theta_1)}{\\partial \\theta_1} = \\frac{2*1}{2m} \\sum_{i = 1}^{m} ((\\theta_1*x^{(i)} + \\theta_0)-y^{(i)})^{2-1} * \\frac{\\partial}{\\partial \\theta_1} ((\\theta_1*x^{(i)} + \\theta_0)-y^{(i)})$$\n",
    "\n",
    "$$\\frac{\\partial J(\\theta_0,\\theta_1)}{\\partial \\theta_1} = \\frac{2}{2m} \\sum_{i = 1}^{m} ((\\theta_1*x^{(i)} + \\theta_0)-y^{(i)}) * x^{(i)}$$\n",
    "\n",
    "$$\\frac{\\partial J(\\theta_0,\\theta_1)}{\\partial \\theta_1} = \\frac{1}{m} \\sum_{i = 1}^{m} ((\\theta_1*x^{(i)} + \\theta_0)-y^{(i)}) * x^{(i)}$$"
   ]
  },
  {
   "cell_type": "code",
   "execution_count": null,
   "metadata": {
    "colab": {
     "base_uri": "https://localhost:8080/"
    },
    "id": "mBxROOkJmv7E",
    "outputId": "a93ee6d4-d30c-4fd3-e020-cc05db89f81c"
   },
   "outputs": [
    {
     "name": "stdout",
     "output_type": "stream",
     "text": [
      "Derivada Theta 0: -34.34823529411764\n",
      "Derivada Theta 1: -135.86484705882353\n"
     ]
    }
   ],
   "source": [
    "d_theta0 = 0\n",
    "d_theta1 = 0\n",
    "for i in range(0,m):\n",
    "  d_theta0 = d_theta0 + (Regresion(X[i]) - Y[i])\n",
    "  d_theta1 = d_theta1 + (Regresion(X[i]) - Y[i]) * X[i]\n",
    "\n",
    "d_theta0 = d_theta0/m\n",
    "d_theta1 = d_theta1/m\n",
    "print(\"Derivada Theta 0:\", d_theta0)\n",
    "print(\"Derivada Theta 1:\", d_theta1)"
   ]
  },
  {
   "cell_type": "markdown",
   "metadata": {
    "id": "AJhkTTT-ohVC"
   },
   "source": [
    "$$\\frac{\\partial J(\\theta_0,\\theta_1)}{\\partial \\theta_0} = -34.348 $$\n",
    "$$\\frac{\\partial J(\\theta_0,\\theta_1)}{\\partial \\theta_1} = -135.86 $$\n",
    "\n",
    "Estos valores solo son para cuando $\\theta_0 = 0$ y $\\theta_1 = 0$ con estas entradas X y salidas Y"
   ]
  },
  {
   "cell_type": "markdown",
   "metadata": {
    "id": "rqg9DmjP1yzO"
   },
   "source": [
    "#Optimizador"
   ]
  },
  {
   "cell_type": "markdown",
   "metadata": {
    "id": "wpK4Qna82JfY"
   },
   "source": [
    "El optimizador es un algoritmo que nos ayudará a ajustar nuestros parámetros ($\\theta_0$ y $\\theta_1$)\n",
    "\n",
    "Descenso del gradiente\n",
    "\n",
    "$\\theta_0 = \\theta_0 - \\alpha\\frac{\\partial J(\\theta_0,\\theta_1)}{\\partial \\theta_0}$\n",
    "\n",
    "$\\theta_1 = \\theta_1 - \\alpha\\frac{\\partial J(\\theta_0,\\theta_1)}{\\partial \\theta_1}$\n",
    "\n",
    "Donde $\\alpha$ es un parámetro que nosotros definiremos para ver que tan rápido va a aprender nuestro algoritmo, se llama tasa de aprendizaje (learning rate) y comunmente se pone un valor entre 0.001 y 0.01\n"
   ]
  },
  {
   "cell_type": "code",
   "execution_count": null,
   "metadata": {
    "colab": {
     "base_uri": "https://localhost:8080/"
    },
    "id": "emQTuc5amqdR",
    "outputId": "e8c5ddf9-2734-4eca-b6a9-4ca7a66905fa"
   },
   "outputs": [
    {
     "name": "stdout",
     "output_type": "stream",
     "text": [
      "Nuevo theta0 =  0.17174117647058823\n",
      "Nuevo theta1 =  0.6793242352941177\n"
     ]
    }
   ],
   "source": [
    "alpha = 0.005\n",
    "theta0 = theta0 - alpha*d_theta0\n",
    "theta1 = theta1 - alpha*d_theta1\n",
    "\n",
    "print(\"Nuevo theta0 = \", theta0)\n",
    "print(\"Nuevo theta1 = \", theta1)"
   ]
  },
  {
   "cell_type": "code",
   "execution_count": null,
   "metadata": {
    "colab": {
     "base_uri": "https://localhost:8080/",
     "height": 296
    },
    "id": "LzyI6rWkppNG",
    "outputId": "940acfea-225e-43ac-df01-cf94a223a19a"
   },
   "outputs": [
    {
     "data": {
      "text/plain": [
       "Text(0, 0.5, 'Y')"
      ]
     },
     "execution_count": 14,
     "metadata": {
      "tags": []
     },
     "output_type": "execute_result"
    },
    {
     "data": {
      "image/png": "[encoded data removed]",
      "text/plain": [
       "<Figure size 432x288 with 1 Axes>"
      ]
     },
     "metadata": {
      "needs_background": "light",
      "tags": []
     },
     "output_type": "display_data"
    }
   ],
   "source": [
    "plt.plot(X,Regresion(X),c='r')\n",
    "plt.scatter(X,Y)\n",
    "plt.xlabel(\"X\")\n",
    "plt.ylabel(\"Y\")"
   ]
  },
  {
   "cell_type": "code",
   "execution_count": null,
   "metadata": {
    "colab": {
     "base_uri": "https://localhost:8080/",
     "height": 1000
    },
    "id": "3jkvABpQr3MM",
    "outputId": "10263590-b4fd-4b89-89d0-775ce3fe5e58"
   },
   "outputs": [
    {
     "data": {
      "image/png": "[encoded data removed]",
      "text/plain": [
       "<Figure size 432x288 with 1 Axes>"
      ]
     },
     "metadata": {
      "needs_background": "light",
      "tags": []
     },
     "output_type": "display_data"
    },
    {
     "data": {
      "image/png": "[encoded data removed]",
      "text/plain": [
       "<Figure size 432x288 with 1 Axes>"
      ]
     },
     "metadata": {
      "needs_background": "light",
      "tags": []
     },
     "output_type": "display_data"
    },
    {
     "data": {
      "image/png": "[encoded data removed]",
      "text/plain": [
       "<Figure size 432x288 with 1 Axes>"
      ]
     },
     "metadata": {
      "needs_background": "light",
      "tags": []
     },
     "output_type": "display_data"
    },
    {
     "data": {
      "image/png": "[encoded data removed]",
      "text/plain": [
       "<Figure size 432x288 with 1 Axes>"
      ]
     },
     "metadata": {
      "needs_background": "light",
      "tags": []
     },
     "output_type": "display_data"
    },
    {
     "data": {
      "image/png": "[encoded data removed]",
      "text/plain": [
       "<Figure size 432x288 with 1 Axes>"
      ]
     },
     "metadata": {
      "needs_background": "light",
      "tags": []
     },
     "output_type": "display_data"
    },
    {
     "data": {
      "image/png": "[encoded data removed]",
      "text/plain": [
       "<Figure size 432x288 with 1 Axes>"
      ]
     },
     "metadata": {
      "needs_background": "light",
      "tags": []
     },
     "output_type": "display_data"
    },
    {
     "data": {
      "image/png": "[encoded data removed]",
      "text/plain": [
       "<Figure size 432x288 with 1 Axes>"
      ]
     },
     "metadata": {
      "needs_background": "light",
      "tags": []
     },
     "output_type": "display_data"
    },
    {
     "data": {
      "image/png": "[encoded data removed]",
      "text/plain": [
       "<Figure size 432x288 with 1 Axes>"
      ]
     },
     "metadata": {
      "needs_background": "light",
      "tags": []
     },
     "output_type": "display_data"
    },
    {
     "data": {
      "text/plain": [
       "<Figure size 432x288 with 0 Axes>"
      ]
     },
     "metadata": {
      "tags": []
     },
     "output_type": "display_data"
    }
   ],
   "source": [
    "epocas = 40\n",
    "iteracion = [] #Para graficar las iteraciones con respecto a la perdida\n",
    "perdida = [] #Para graficar con iteraciones\n",
    "\n",
    "for i in range(0,epocas):\n",
    "  suma_theta0 = 0\n",
    "  suma_theta1 = 0\n",
    "  for k in range(0,m):\n",
    "    suma_theta0 = suma_theta0 + (Regresion(X[k])-Y[k])\n",
    "    suma_theta1 = suma_theta1 + (Regresion(X[k])-Y[k])*X[k]\n",
    "\n",
    "  theta0 = theta0 - alpha * (suma_theta0/m)\n",
    "  theta1 = theta1 - alpha * (suma_theta1/m)\n",
    "  \n",
    "  if i % 5 == 0:\n",
    "    plt.plot(X,Regresion(X),c='r')\n",
    "    plt.scatter(X,Y)\n",
    "    plt.pause(0.5)\n",
    "    plt.clf()\n",
    "\n",
    "\n",
    "  iteracion.append(i)\n",
    "  perdida.append(FuncionCosto(X,Y))"
   ]
  },
  {
   "cell_type": "code",
   "execution_count": null,
   "metadata": {
    "colab": {
     "base_uri": "https://localhost:8080/",
     "height": 282
    },
    "id": "KhzK4vu936XR",
    "outputId": "03b99f39-99c3-4206-a96f-8f2640f25fe9"
   },
   "outputs": [
    {
     "data": {
      "text/plain": [
       "<matplotlib.collections.PathCollection at 0x7f500eefa910>"
      ]
     },
     "execution_count": 16,
     "metadata": {
      "tags": []
     },
     "output_type": "execute_result"
    },
    {
     "data": {
      "image/png": "[encoded data removed]",
      "text/plain": [
       "<Figure size 432x288 with 1 Axes>"
      ]
     },
     "metadata": {
      "needs_background": "light",
      "tags": []
     },
     "output_type": "display_data"
    }
   ],
   "source": [
    "plt.plot(X,Regresion(X),c='r')\n",
    "plt.scatter(X,Y)"
   ]
  },
  {
   "cell_type": "code",
   "execution_count": null,
   "metadata": {
    "colab": {
     "base_uri": "https://localhost:8080/",
     "height": 312
    },
    "id": "pJgyC0OQ4e2K",
    "outputId": "67377a9b-f63f-4173-ac2e-282fe901d2ae"
   },
   "outputs": [
    {
     "data": {
      "text/plain": [
       "Text(0, 0.5, 'Costo')"
      ]
     },
     "execution_count": 17,
     "metadata": {
      "tags": []
     },
     "output_type": "execute_result"
    },
    {
     "data": {
      "image/png": "[encoded data removed]",
      "text/plain": [
       "<Figure size 432x288 with 1 Axes>"
      ]
     },
     "metadata": {
      "needs_background": "light",
      "tags": []
     },
     "output_type": "display_data"
    }
   ],
   "source": [
    "plt.plot(iteracion,perdida)\n",
    "\n",
    "plt.title('Funcion de Costo')\n",
    "plt.xlabel('Iteraciones')\n",
    "plt.ylabel('Costo')"
   ]
  },
  {
   "cell_type": "code",
   "execution_count": null,
   "metadata": {
    "colab": {
     "base_uri": "https://localhost:8080/"
    },
    "id": "IvJzapbxsp9K",
    "outputId": "9110564a-919f-4d78-cbd7-3fb92088d4c7"
   },
   "outputs": [
    {
     "data": {
      "text/plain": [
       "6.850156927554564"
      ]
     },
     "execution_count": 18,
     "metadata": {
      "tags": []
     },
     "output_type": "execute_result"
    }
   ],
   "source": [
    "FuncionCosto(X,Y)"
   ]
  }
 ],
 "metadata": {
  "colab": {
   "name": "Regresion Lineal ML.ipynb",
   "provenance": []
  },
  "kernelspec": {
   "display_name": "Python 3",
   "language": "python",
   "name": "python3"
  },
  "language_info": {
   "codemirror_mode": {
    "name": "ipython",
    "version": 3
   },
   "file_extension": ".py",
   "mimetype": "text/x-python",
   "name": "python",
   "nbconvert_exporter": "python",
   "pygments_lexer": "ipython3",
   "version": "3.8.5"
  },
  "latex_envs": {
   "LaTeX_envs_menu_present": true,
   "autoclose": false,
   "autocomplete": true,
   "bibliofile": "biblio.bib",
   "cite_by": "apalike",
   "current_citInitial": 1,
   "eqLabelWithNumbers": true,
   "eqNumInitial": 1,
   "hotkeys": {
    "equation": "Ctrl-E",
    "itemize": "Ctrl-I"
   },
   "labels_anchors": false,
   "latex_user_defs": false,
   "report_style_numbering": false,
   "user_envs_cfg": false
  }
 },
 "nbformat": 4,
 "nbformat_minor": 1
}
